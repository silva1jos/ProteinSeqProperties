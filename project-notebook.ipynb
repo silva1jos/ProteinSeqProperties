{
 "cells": [
  {
   "cell_type": "code",
   "execution_count": 30,
   "metadata": {},
   "outputs": [],
   "source": [
    "import time\n",
    "import Levenshtein\n",
    "import pandas as pd\n",
    "import numpy as np\n",
    "import seaborn as sns\n",
    "from sklearn import svm\n",
    "from sklearn.model_selection import train_test_split\n",
    "from chembl_webresource_client.new_client import new_client"
   ]
  },
  {
   "cell_type": "code",
   "execution_count": 13,
   "metadata": {},
   "outputs": [
    {
     "data": {
      "text/plain": [
       "{'acd_logd': '-3.08',\n",
       " 'acd_logp': '-0.57',\n",
       " 'acd_most_apka': '2.31',\n",
       " 'acd_most_bpka': '9.61',\n",
       " 'alogp': '-0.58',\n",
       " 'aromatic_rings': 0,\n",
       " 'full_molformula': 'C3H7NO2',\n",
       " 'full_mwt': '89.09',\n",
       " 'hba': 2,\n",
       " 'hba_lipinski': 3,\n",
       " 'hbd': 2,\n",
       " 'hbd_lipinski': 3,\n",
       " 'heavy_atoms': 6,\n",
       " 'molecular_species': 'ZWITTERION',\n",
       " 'mw_freebase': '89.09',\n",
       " 'mw_monoisotopic': '89.0477',\n",
       " 'num_lipinski_ro5_violations': 0,\n",
       " 'num_ro5_violations': 0,\n",
       " 'psa': '63.32',\n",
       " 'qed_weighted': '0.45',\n",
       " 'ro3_pass': 'N',\n",
       " 'rtb': 1}"
      ]
     },
     "execution_count": 13,
     "metadata": {},
     "output_type": "execute_result"
    }
   ],
   "source": [
    "new_client.molecule.filter(molecule_chembl_id='CHEMBL12198').only(\n",
    "    'molecule_properties')[0]['molecule_properties']"
   ]
  },
  {
   "cell_type": "code",
   "execution_count": 2,
   "metadata": {},
   "outputs": [],
   "source": [
    "# Key of the outer dctionary is the 1 letter identifier for each amino acid\n",
    "aminoAcids = {'A':'CHEMBL12198', 'C': \"CHEMBL863\", 'D':'CHEMBL274323', 'E':'CHEMBL575060',\n",
    "              'F':'CHEMBL301523', 'G':'CHEMBL773', 'H':'CHEMBL17962', 'I':'CHEMBL1233584',\n",
    "              'K':'CHEMBL8085', 'L':'CHEMBL291962', 'M':'CHEMBL42336', 'N':'CHEMBL58832',\n",
    "              'P':'CHEMBL54922', 'Q':'CHEMBL930', 'R':'CHEMBL1485', 'S':'CHEMBL11298',\n",
    "              'T':'CHEMBL291747', 'V':'CHEMBL43068', 'W':'CHEMBL54976', 'Y':'CHEMBL925'}"
   ]
  },
  {
   "cell_type": "code",
   "execution_count": 3,
   "metadata": {},
   "outputs": [],
   "source": [
    "# This gives the properties for the singlular amino acid\n",
    "properties = dict()\n",
    "for aa, cid in aminoAcids.items():\n",
    "    properties[aa] = new_client.molecule.filter(molecule_chembl_id=cid).only(\n",
    "        'molecule_properties')[0]['molecule_properties']"
   ]
  },
  {
   "cell_type": "code",
   "execution_count": 4,
   "metadata": {},
   "outputs": [],
   "source": [
    "# Only care about the side chain properties, the differing part of the amino acid\n",
    "# Values corrected for the side chain, modified mostly by glycine values\n",
    "properties_side_chain = dict()\n",
    "for aa in properties.keys():\n",
    "    properties_side_chain[aa] = [float(properties[aa]['acd_logd']), float(properties[aa]['acd_logp']),\n",
    "                                 properties[aa]['aromatic_rings'], properties[aa]['hba'] - 2,\n",
    "                                 properties[aa]['hbd'] - 2, float(properties[aa]['full_mwt']) - 74.06,\n",
    "                                 properties[aa]['heavy_atoms'] - 5, float(properties[aa]['psa']) - 63.32,\n",
    "                                 properties[aa]['rtb'] - 1]"
   ]
  },
  {
   "cell_type": "code",
   "execution_count": 5,
   "metadata": {},
   "outputs": [],
   "source": [
    "# Sequences are stored within a *.a2m file which in addition to the above codes, uses X, B, Z, and -/.\n",
    "# X represents any amino acid features will be arveraged\n",
    "# B represents N/D features will be averaged\n",
    "# Z represents Q/E features will be averaged\n",
    "# ./- represents a gap character \n",
    "items = [i for i in range(len(properties_side_chain['A']))]\n",
    "properties_side_chain['X'] = [np.mean([x[i] for x in properties_side_chain.values()]) for i in items]\n",
    "properties_side_chain['B'] = [np.mean([x[i] for x in [properties_side_chain['N'],\n",
    "                                                     properties_side_chain['D']]]) for i in items]\n",
    "properties_side_chain['Z'] = [np.mean([x[i] for x in [properties_side_chain['Q'],\n",
    "                                                     properties_side_chain['E']]]) for i in items]\n",
    "properties_side_chain['-'] = [0 for i in items]\n",
    "properties_side_chain['.'] = [0 for i in items]"
   ]
  },
  {
   "cell_type": "code",
   "execution_count": 6,
   "metadata": {},
   "outputs": [],
   "source": [
    "gal4_seqs = list()\n",
    "with open('sequences/GAL4_YEAST_hmmerbit_plmc_n5_m30_f50_t0.2_r1-75_id100_b45.a2m', 'r') as f:\n",
    "    for count, line in enumerate(f, start=1):\n",
    "        if count % 2 == 0:\n",
    "            gal4_seqs.append(line.upper().rstrip())"
   ]
  },
  {
   "cell_type": "code",
   "execution_count": 7,
   "metadata": {},
   "outputs": [],
   "source": [
    "gal4_as_features = list()\n",
    "for seq in gal4_seqs:\n",
    "    seq_as_features = list()\n",
    "    for aa in seq:\n",
    "        if properties_side_chain[aa] == None:\n",
    "            raise Exception(aa)\n",
    "        seq_as_features.append(properties_side_chain[aa])\n",
    "    gal4_as_features.append(seq_as_features)"
   ]
  },
  {
   "cell_type": "code",
   "execution_count": 8,
   "metadata": {},
   "outputs": [
    {
     "name": "stderr",
     "output_type": "stream",
     "text": [
      "/home/silvajos/anaconda3/lib/python3.5/site-packages/sklearn/svm/base.py:196: FutureWarning: The default value of gamma will change from 'auto' to 'scale' in version 0.22 to account better for unscaled features. Set gamma explicitly to 'auto' or 'scale' to avoid this warning.\n",
      "  \"avoid this warning.\", FutureWarning)\n"
     ]
    },
    {
     "name": "stdout",
     "output_type": "stream",
     "text": [
      "1.573669672012329\n"
     ]
    }
   ],
   "source": [
    "# Training on 100 entries, where each entry is a the 5 properties for each  took 1.58 seconds\n",
    "# Training on 1000 entries took 200 seconds\n",
    "# This was the wrong way to flatten the list, svm does all AA at the same position\n",
    "start_time = time.time()\n",
    "svm_aa = svm.OneClassSVM()\n",
    "svm_aa.fit([item for sublist in gal4_as_features[:100] for item in sublist])\n",
    "print(time.time() - start_time)"
   ]
  },
  {
   "cell_type": "code",
   "execution_count": 47,
   "metadata": {},
   "outputs": [],
   "source": [
    "gal4_as_all = list()\n",
    "for seq in gal4_as_features:\n",
    "    temp = list()\n",
    "    for aa in seq:\n",
    "        for f in aa:\n",
    "            temp.append(f)\n",
    "    gal4_as_all.append(temp)"
   ]
  },
  {
   "cell_type": "code",
   "execution_count": 10,
   "metadata": {},
   "outputs": [
    {
     "data": {
      "text/plain": [
       "17521"
      ]
     },
     "execution_count": 10,
     "metadata": {},
     "output_type": "execute_result"
    }
   ],
   "source": [
    "len(gal4_as_all)"
   ]
  },
  {
   "cell_type": "code",
   "execution_count": 11,
   "metadata": {},
   "outputs": [
    {
     "name": "stderr",
     "output_type": "stream",
     "text": [
      "/home/silvajos/anaconda3/lib/python3.5/site-packages/sklearn/svm/base.py:196: FutureWarning: The default value of gamma will change from 'auto' to 'scale' in version 0.22 to account better for unscaled features. Set gamma explicitly to 'auto' or 'scale' to avoid this warning.\n",
      "  \"avoid this warning.\", FutureWarning)\n"
     ]
    },
    {
     "name": "stdout",
     "output_type": "stream",
     "text": [
      "214.64266848564148\n"
     ]
    }
   ],
   "source": [
    "# Each point of the svm is a single sequence, where the features are all of the amino acids\n",
    "# 10,000 entries take 214 seconds\n",
    "start_time = time.time()\n",
    "svm0 = svm.OneClassSVM()\n",
    "svm0.fit(gal4_as_all[:10000])\n",
    "print(time.time() - start_time)"
   ]
  },
  {
   "cell_type": "code",
   "execution_count": 12,
   "metadata": {},
   "outputs": [
    {
     "name": "stdout",
     "output_type": "stream",
     "text": [
      "50.41265916824341\n"
     ]
    }
   ],
   "source": [
    "start_time = time.time()\n",
    "x_pred = svm0.predict(gal4_as_all[10000:])\n",
    "print(time.time() - start_time)"
   ]
  },
  {
   "cell_type": "code",
   "execution_count": 22,
   "metadata": {},
   "outputs": [
    {
     "data": {
      "text/plain": [
       "0.007578779417630634"
      ]
     },
     "execution_count": 22,
     "metadata": {},
     "output_type": "execute_result"
    }
   ],
   "source": [
    "# It got right .76% of sequences, sum is negative\n",
    "(len(x_pred) + sum(x_pred)) / 2 / len(x_pred)"
   ]
  },
  {
   "cell_type": "code",
   "execution_count": 25,
   "metadata": {},
   "outputs": [
    {
     "name": "stderr",
     "output_type": "stream",
     "text": [
      "/home/silvajos/anaconda3/lib/python3.5/site-packages/sklearn/svm/base.py:196: FutureWarning: The default value of gamma will change from 'auto' to 'scale' in version 0.22 to account better for unscaled features. Set gamma explicitly to 'auto' or 'scale' to avoid this warning.\n",
      "  \"avoid this warning.\", FutureWarning)\n"
     ]
    },
    {
     "name": "stdout",
     "output_type": "stream",
     "text": [
      "2.686241626739502\n"
     ]
    }
   ],
   "source": [
    "# Training on 10,000 examples takes 2.7 seconds\n",
    "# This was the wrong way to flatten the list, svm does all AA at the same position\n",
    "start_time = time.time()\n",
    "svm_aa35 = svm.OneClassSVM()\n",
    "svm_aa35.fit([seq[35] for seq in gal4_as_features[:10000]])\n",
    "print(time.time() - start_time)"
   ]
  },
  {
   "cell_type": "code",
   "execution_count": 28,
   "metadata": {},
   "outputs": [
    {
     "name": "stdout",
     "output_type": "stream",
     "text": [
      "1.283959150314331\n"
     ]
    }
   ],
   "source": [
    "start_time = time.time()\n",
    "x_pred35 = svm_aa35.predict([seq[35] for seq in gal4_as_features[10000:]])\n",
    "print(time.time() - start_time)"
   ]
  },
  {
   "cell_type": "code",
   "execution_count": 31,
   "metadata": {},
   "outputs": [
    {
     "data": {
      "text/plain": [
       "0.25435447413907725"
      ]
     },
     "execution_count": 31,
     "metadata": {},
     "output_type": "execute_result"
    }
   ],
   "source": [
    "# It got right 25.4% of sequences, sum is negative\n",
    "(len(x_pred35) + sum(x_pred35)) / 2 / len(x_pred35)"
   ]
  },
  {
   "cell_type": "code",
   "execution_count": 77,
   "metadata": {},
   "outputs": [
    {
     "data": {
      "text/plain": [
       "<matplotlib.axes._subplots.AxesSubplot at 0x7fd8d1e4da20>"
      ]
     },
     "execution_count": 77,
     "metadata": {},
     "output_type": "execute_result"
    },
    {
     "data": {
      "image/png": "[encoded data removed]",
      "text/plain": [
       "<Figure size 432x288 with 1 Axes>"
      ]
     },
     "metadata": {},
     "output_type": "display_data"
    }
   ],
   "source": [
    "sns.set_style('whitegrid')\n",
    "gal4_35aa = [x[35] for x in gal4_seqs]\n",
    "sns.countplot(gal4_35aa)"
   ]
  },
  {
   "cell_type": "code",
   "execution_count": 81,
   "metadata": {},
   "outputs": [
    {
     "data": {
      "text/plain": [
       "[Text(0.5, 0, 'Amino acid present at 36 position of sequence of GAL4'),\n",
       " Text(0.5, 1.0, 'Nonrandomized amino acid distribution for first 10,000 entries')]"
      ]
     },
     "execution_count": 81,
     "metadata": {},
     "output_type": "execute_result"
    },
    {
     "data": {
      "image/png": "[encoded data removed]",
      "text/plain": [
       "<Figure size 432x288 with 1 Axes>"
      ]
     },
     "metadata": {},
     "output_type": "display_data"
    }
   ],
   "source": [
    "ax = sns.countplot(gal4_35aa[:10000], order = ['A', 'C', 'D', 'E', 'F', 'G', 'H', 'I', 'K', 'L', 'M',\n",
    "                                               'N', 'P', 'Q', 'R', 'S', 'T', 'V', 'W', 'Y'])\n",
    "ax.set(title ='Nonrandomized amino acid distribution for first 10,000 entries',\n",
    "       xlabel='Amino acid present at 36 position of sequence of GAL4')"
   ]
  },
  {
   "cell_type": "code",
   "execution_count": 84,
   "metadata": {},
   "outputs": [
    {
     "data": {
      "text/plain": [
       "[Text(0.5, 0, 'Amino acid present at 36 position of sequence of GAL4'),\n",
       " Text(0.5, 1.0, 'Nonrandomized amino acid distribution for last 7,000 entries')]"
      ]
     },
     "execution_count": 84,
     "metadata": {},
     "output_type": "execute_result"
    },
    {
     "data": {
      "image/png": "[encoded data removed]",
      "text/plain": [
       "<Figure size 432x288 with 1 Axes>"
      ]
     },
     "metadata": {},
     "output_type": "display_data"
    }
   ],
   "source": [
    "ax2 = sns.countplot(gal4_35aa[10000:],order = ['A', 'C', 'D', 'E', 'F', 'G', 'H', 'I', 'K', 'L', 'M',\n",
    "                                               'N', 'P', 'Q', 'R', 'S', 'T', 'V', 'W', 'Y'])\n",
    "ax2.set(title ='Nonrandomized amino acid distribution for last 7,000 entries',\n",
    "       xlabel='Amino acid present at 36 position of sequence of GAL4')"
   ]
  },
  {
   "cell_type": "markdown",
   "metadata": {},
   "source": [
    "### Need to randomize the dataframe, the sequences in the file are not randomly ordered"
   ]
  },
  {
   "cell_type": "code",
   "execution_count": 8,
   "metadata": {},
   "outputs": [],
   "source": [
    "train_features, test_features = train_test_split(gal4_as_features, test_size=0.5)"
   ]
  },
  {
   "cell_type": "code",
   "execution_count": 39,
   "metadata": {},
   "outputs": [
    {
     "name": "stderr",
     "output_type": "stream",
     "text": [
      "/home/silvajos/anaconda3/lib/python3.5/site-packages/sklearn/svm/base.py:196: FutureWarning: The default value of gamma will change from 'auto' to 'scale' in version 0.22 to account better for unscaled features. Set gamma explicitly to 'auto' or 'scale' to avoid this warning.\n",
      "  \"avoid this warning.\", FutureWarning)\n"
     ]
    },
    {
     "name": "stdout",
     "output_type": "stream",
     "text": [
      "2.1869137287139893\n"
     ]
    }
   ],
   "source": [
    "# Training on 10,000 examples takes 2.7 seconds\n",
    "# This was the wrong way to flatten the list, svm does all AA at the same position\n",
    "start_time = time.time()\n",
    "svm_aa35r = svm.OneClassSVM()\n",
    "svm_aa35r.fit([seq[35] for seq in train_features])\n",
    "print(time.time() - start_time)"
   ]
  },
  {
   "cell_type": "code",
   "execution_count": 45,
   "metadata": {},
   "outputs": [
    {
     "name": "stdout",
     "output_type": "stream",
     "text": [
      "1.3195850849151611\n"
     ]
    }
   ],
   "source": [
    "# Repeat of the 35 aa experiment with the randomized test/train\n",
    "start_time = time.time()\n",
    "x_pred35r = svm_aa35r.predict([seq[35] for seq in test_features])\n",
    "print(time.time() - start_time)"
   ]
  },
  {
   "cell_type": "code",
   "execution_count": 49,
   "metadata": {},
   "outputs": [
    {
     "data": {
      "text/plain": [
       "0.23136628238785525"
      ]
     },
     "execution_count": 49,
     "metadata": {},
     "output_type": "execute_result"
    }
   ],
   "source": [
    "# It got right 23% of sequences, sum is negative\n",
    "(len(x_pred35r) + sum(x_pred35r)) / 2 / len(x_pred35r)"
   ]
  },
  {
   "cell_type": "code",
   "execution_count": 55,
   "metadata": {},
   "outputs": [
    {
     "data": {
      "text/plain": [
       "-4742"
      ]
     },
     "execution_count": 55,
     "metadata": {},
     "output_type": "execute_result"
    }
   ],
   "source": [
    "sum(svm_aa35r.predict([seq[35] for seq in train_features]))"
   ]
  },
  {
   "cell_type": "code",
   "execution_count": 56,
   "metadata": {},
   "outputs": [
    {
     "data": {
      "text/plain": [
       "array([309.96855942, 309.96795579, 309.96794271, ..., 309.96795579,\n",
       "       309.96857335, 309.96795651])"
      ]
     },
     "execution_count": 56,
     "metadata": {},
     "output_type": "execute_result"
    }
   ],
   "source": [
    "svm_aa35r.score_samples([seq[35] for seq in test_features])"
   ]
  },
  {
   "cell_type": "code",
   "execution_count": 31,
   "metadata": {},
   "outputs": [],
   "source": [
    "def seq_weight(seq):\n",
    "    try:\n",
    "        x = 1 / sum([Levenshtein.hamming(seq, s) / 75 < 0.2 for s in gal4_seqs])\n",
    "    except:\n",
    "        raise Exception(seq)\n",
    "    return x"
   ]
  },
  {
   "cell_type": "code",
   "execution_count": 34,
   "metadata": {},
   "outputs": [],
   "source": [
    "seq_weights = [seq_weight(s) for s in gal4_seqs]"
   ]
  },
  {
   "cell_type": "code",
   "execution_count": 36,
   "metadata": {},
   "outputs": [],
   "source": [
    "# Need to recreate splits with the sequence weights\n",
    "train_features, test_features, train_weight, test_weight = train_test_split(gal4_as_features,\n",
    "                                                                            seq_weights, test_size=0.5)"
   ]
  },
  {
   "cell_type": "code",
   "execution_count": 42,
   "metadata": {},
   "outputs": [
    {
     "name": "stderr",
     "output_type": "stream",
     "text": [
      "/home/silvajos/anaconda3/lib/python3.5/site-packages/sklearn/svm/base.py:196: FutureWarning: The default value of gamma will change from 'auto' to 'scale' in version 0.22 to account better for unscaled features. Set gamma explicitly to 'auto' or 'scale' to avoid this warning.\n",
      "  \"avoid this warning.\", FutureWarning)\n"
     ]
    },
    {
     "name": "stdout",
     "output_type": "stream",
     "text": [
      "3.7141013145446777\n"
     ]
    }
   ],
   "source": [
    "# Training on 10,000 examples takes 2.7 seconds\n",
    "# For the 35 amino acid with sequences weighted\n",
    "start_time = time.time()\n",
    "svm_aa35rw = svm.OneClassSVM()\n",
    "svm_aa35rw.fit([seq[35] for seq in train_features], sample_weight=train_weight)\n",
    "x_pred35rw = svm_aa35rw.predict([seq[35] for seq in test_features])\n",
    "print(time.time() - start_time)"
   ]
  },
  {
   "cell_type": "code",
   "execution_count": 43,
   "metadata": {},
   "outputs": [
    {
     "data": {
      "text/plain": [
       "0.2701746375984477"
      ]
     },
     "execution_count": 43,
     "metadata": {},
     "output_type": "execute_result"
    }
   ],
   "source": [
    "# It got right 27% of sequences, sum is negative\n",
    "(len(x_pred35rw) + sum(x_pred35rw)) / 2 / len(x_pred35rw)"
   ]
  },
  {
   "cell_type": "code",
   "execution_count": 44,
   "metadata": {},
   "outputs": [
    {
     "name": "stdout",
     "output_type": "stream",
     "text": [
      "3.318368673324585\n",
      "-139\n"
     ]
    }
   ],
   "source": [
    "# Training on 10,000 examples takes 2.7 seconds\n",
    "# For the 35 amino acid with sequences weighted by uniqueness\n",
    "start_time = time.time()\n",
    "svm_aa35rws = svm.OneClassSVM(gamma='scale')\n",
    "svm_aa35rws.fit([seq[35] for seq in train_features], sample_weight=train_weight)\n",
    "x_pred35rws = svm_aa35rws.predict([seq[35] for seq in test_features])\n",
    "print(time.time() - stasrt_time)\n",
    "print(sum(x_pred35rws))"
   ]
  },
  {
   "cell_type": "code",
   "execution_count": 45,
   "metadata": {},
   "outputs": [
    {
     "data": {
      "text/plain": [
       "0.4920671156260701"
      ]
     },
     "execution_count": 45,
     "metadata": {},
     "output_type": "execute_result"
    }
   ],
   "source": [
    "# Changing gamma to auto gave accuracy of 0.492\n",
    "(len(x_pred35rws) + sum(x_pred35rws)) / 2 / len(x_pred35rws)"
   ]
  },
  {
   "cell_type": "code",
   "execution_count": 48,
   "metadata": {},
   "outputs": [],
   "source": [
    "# Need to recreate splits with the sequence weights this time for the all set\n",
    "train_all_feat, test_all_feat, train_all_weight, test_all_weight = train_test_split(gal4_as_all,\n",
    "                                                                            seq_weights, test_size=0.5)"
   ]
  },
  {
   "cell_type": "code",
   "execution_count": 49,
   "metadata": {},
   "outputs": [
    {
     "name": "stdout",
     "output_type": "stream",
     "text": [
      "134.78308534622192\n",
      "-139\n"
     ]
    }
   ],
   "source": [
    "# Training on 10,000 examples takes 2.7 seconds\n",
    "# This was the wrong way to flatten the list, svm does all AA at the same position\n",
    "start_time = time.time()\n",
    "svm_allws = svm.OneClassSVM(gamma='scale')\n",
    "svm_allws.fit(train_all_feat, sample_weight=train_all_weight)\n",
    "x_predallws = svm_allws.predict(test_all_feat)\n",
    "print(time.time() - start_time)\n",
    "print(sum(x_predallws))"
   ]
  },
  {
   "cell_type": "code",
   "execution_count": 51,
   "metadata": {},
   "outputs": [
    {
     "data": {
      "text/plain": [
       "0.12053418559525168"
      ]
     },
     "execution_count": 51,
     "metadata": {},
     "output_type": "execute_result"
    }
   ],
   "source": [
    "# 0.12 accuracy when all amino acids in a sequence are given at once\n",
    "(len(x_predallws) + sum(x_predallws)) / 2 / len(x_predallws)"
   ]
  },
  {
   "cell_type": "code",
   "execution_count": 76,
   "metadata": {},
   "outputs": [
    {
     "name": "stdout",
     "output_type": "stream",
     "text": [
      "finished with  0\n",
      "finished with  10\n",
      "finished with  20\n",
      "finished with  30\n",
      "finished with  40\n",
      "finished with  50\n",
      "finished with  60\n",
      "finished with  70\n",
      "496.70160269737244\n"
     ]
    }
   ],
   "source": [
    "# Running the svm on each of the amino acid positions\n",
    "start_time = time.time()\n",
    "aa_predictions = list()\n",
    "aa_score = list()\n",
    "aa_train_score = list()\n",
    "for i in range(len(gal4_seqs[0])):\n",
    "    svm_aa = svm.OneClassSVM(gamma='scale')\n",
    "    svm_aa.fit([seq[i] for seq in train_features], sample_weight=train_weight)\n",
    "    aa_predictions.append(svm_aa.predict([seq[i] for seq in test_features]))\n",
    "    aa_score.append(svm_aa.score_samples([seq[i] for seq in test_features]))\n",
    "    aa_train_score.append(svm_aa.score_samples([seq[i] for seq in train_features]))\n",
    "    if i % 10 == 0:\n",
    "        print(\"finished with \", i)\n",
    "print(time.time() - start_time)"
   ]
  },
  {
   "cell_type": "code",
   "execution_count": 70,
   "metadata": {},
   "outputs": [],
   "source": [
    "pct_correct = [(len(x) + (-1 if sum(x) > 0 else 1) * sum(x)) / 2 / len(x) for x in aa_predictions]"
   ]
  },
  {
   "cell_type": "code",
   "execution_count": 85,
   "metadata": {},
   "outputs": [
    {
     "data": {
      "text/plain": [
       "[Text(0, 0.5, 'recall'),\n",
       " Text(0.5, 0, 'position in sequence'),\n",
       " Text(0.5, 1.0, 'Recall of model for amino acids of the GAL4 sequence')]"
      ]
     },
     "execution_count": 85,
     "metadata": {},
     "output_type": "execute_result"
    },
    {
     "data": {
      "image/png": "[encoded data removed]",
      "text/plain": [
       "<Figure size 432x288 with 1 Axes>"
      ]
     },
     "metadata": {},
     "output_type": "display_data"
    }
   ],
   "source": [
    "ax = sns.lineplot(x=range(75), y=pct_correct)\n",
    "ax.set(title = 'Recall of model for amino acids of the GAL4 sequence', ylabel = 'recall',\n",
    "       xlabel='position in sequence')"
   ]
  }
 ],
 "metadata": {
  "kernelspec": {
   "display_name": "Python 3",
   "language": "python",
   "name": "python3"
  },
  "language_info": {
   "codemirror_mode": {
    "name": "ipython",
    "version": 3
   },
   "file_extension": ".py",
   "mimetype": "text/x-python",
   "name": "python",
   "nbconvert_exporter": "python",
   "pygments_lexer": "ipython3",
   "version": "3.5.6"
  }
 },
 "nbformat": 4,
 "nbformat_minor": 2
}
